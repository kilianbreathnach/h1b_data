{
 "cells": [
  {
   "cell_type": "markdown",
   "metadata": {},
   "source": [
    "## Task 1\n",
    "### Explore the differences in visas issued in NYC and SF Bay Area\n",
    "\n",
    "Since this data is actually the LCA application data, we can't exactly explore the number of issued visas but we can explore the number of potential visas by looking at the trends in successful LCA applications."
   ]
  },
  {
   "cell_type": "markdown",
   "metadata": {},
   "source": [
    "### Description of data cleaning\n",
    "\n",
    "The exact method can be seen in the other notebooks but I will briefly describe the motivation for and results of my approach to getting the data for this task:\n",
    "\n",
    "1. I kept only those data where the LCA was certified and not withdrawn, since those were the only cases which could have become visas\n",
    "2. Since this dataset is supposed to be for H1B visas issued in 2014, I kept only those data where the LCA was submitted within 6 months of 2014. It is a condition that LCA is submitted within this timeframe, as outlined here: https://www.foreignlaborcert.doleta.gov/h-1b.cfm Similarly, I removed any rows for LCA that had a start date any later than the last day in 2014.\n",
    "4. For the sake of salary comparison, I removed any applications for part time work, since there is no reliable way to compare without knowing the hours worked. This was a very small part of the dataset.\n",
    "5. For the remaining pay information, I transformed everything in the wage_rate_from, wage_rate_to, pw_1, and pw_2 columns into an annual salary for easy comparison. I did this by assuming that \"Monthly\" rate could be converted to annual with a factor of 12, Bi-Weekly with a factor of 26, and Hourly with a factor of 52 weeks by 40 hours.\n",
    "6. Since a lot of the text data was misspelled and otherwise messy, I did my best to find unique matches of things like company names, addresses, SOC codes, etc. by fuzzy-matching and comparing with outside reliable data sources from the census bureau and ONET, removing codes and addresses that don't make sense or cross-referencing to figure out which codes to replace them with.\n",
    "7. For the NYC and SF data, I got neighbourhood and county/place name data from the NYC and SF open data webpages, in order to make sure I could distinguish work locations within the metropolitan areas from other areas in the states of NY and CA."
   ]
  },
  {
   "cell_type": "code",
   "execution_count": 1,
   "metadata": {},
   "outputs": [
    {
     "name": "stderr",
     "output_type": "stream",
     "text": [
      "/home/kilian/.envs/elucd/lib/python3.6/site-packages/statsmodels/compat/pandas.py:56: FutureWarning: The pandas.core.datetools module is deprecated and will be removed in a future version. Please use the pandas.tseries module instead.\n",
      "  from pandas.core import datetools\n"
     ]
    }
   ],
   "source": [
    "# first let's just import some modules\n",
    "import numpy as np\n",
    "import pandas as pd\n",
    "from scipy import stats\n",
    "import statsmodels.api as sm\n",
    "import matplotlib.pyplot as plt\n",
    "import seaborn as sns\n",
    "\n",
    "%matplotlib inline"
   ]
  },
  {
   "cell_type": "code",
   "execution_count": 2,
   "metadata": {},
   "outputs": [],
   "source": [
    "# load in the two dataframes for NYC and SF which I have cleaned up\n",
    "nycdf = pd.read_csv(\"../dat/nycdf.csv\")\n",
    "sfdf = pd.read_csv(\"../dat/sfdf.csv\")"
   ]
  },
  {
   "cell_type": "markdown",
   "metadata": {},
   "source": [
    "###  How many visas could be issued for NYC and SF\n",
    "\n",
    "Here I'll just sum over the \"total_workers\" column for the NYC and SF dataframes of cleaned up data, counting the number of visas for each company for each job that were applied for with LCAs"
   ]
  },
  {
   "cell_type": "code",
   "execution_count": 4,
   "metadata": {},
   "outputs": [
    {
     "data": {
      "text/plain": [
       "61139.0"
      ]
     },
     "execution_count": 4,
     "metadata": {},
     "output_type": "execute_result"
    }
   ],
   "source": [
    "nycnum = nycdf.total_workers.sum()\n",
    "nycnum"
   ]
  },
  {
   "cell_type": "code",
   "execution_count": 5,
   "metadata": {},
   "outputs": [
    {
     "data": {
      "text/plain": [
       "111004.0"
      ]
     },
     "execution_count": 5,
     "metadata": {},
     "output_type": "execute_result"
    }
   ],
   "source": [
    "sfnum = sfdf.total_workers.sum()\n",
    "sfnum"
   ]
  },
  {
   "cell_type": "markdown",
   "metadata": {},
   "source": [
    "### Do the number of visas issued in NYC differ in any meaningful way from those issued in SF?\n",
    "\n",
    "Clearly, the number in SF is larger than the number in NYC. But just to be sure, I will compute the rate of visas in the population for each metro area. The numbers were found on google/wikipedia and come from the census webpages for each area"
   ]
  },
  {
   "cell_type": "code",
   "execution_count": 6,
   "metadata": {},
   "outputs": [],
   "source": [
    "nycpop = 8472000\n",
    "sfpop = 7150739 + (7684011 - 7150739) * (4/6)"
   ]
  },
  {
   "cell_type": "code",
   "execution_count": 7,
   "metadata": {},
   "outputs": [
    {
     "data": {
      "text/plain": [
       "0.0072165958451369215"
      ]
     },
     "execution_count": 7,
     "metadata": {},
     "output_type": "execute_result"
    }
   ],
   "source": [
    "nyc_visarate = nycdf.total_workers.sum() / nycpop\n",
    "nyc_visarate"
   ]
  },
  {
   "cell_type": "code",
   "execution_count": 9,
   "metadata": {},
   "outputs": [
    {
     "data": {
      "text/plain": [
       "0.01478820260137758"
      ]
     },
     "execution_count": 9,
     "metadata": {},
     "output_type": "execute_result"
    }
   ],
   "source": [
    "sf_visarate = sfdf.total_workers.sum() / sfpop\n",
    "sf_visarate"
   ]
  },
  {
   "cell_type": "markdown",
   "metadata": {},
   "source": [
    "Since the populations are very similar, we see that the Bay Area has double the rate of visas as New York City. I find it really surprising that more than 1 in every 100 people in the Bay Area was getting a H1B in 2014!\n",
    "\n",
    "And just to make sure this is not somehow skewed by people whose secondary work locations are in these areas, I'll make the count only for primary workplaces:"
   ]
  },
  {
   "cell_type": "code",
   "execution_count": 74,
   "metadata": {},
   "outputs": [
    {
     "name": "stdout",
     "output_type": "stream",
     "text": [
      "56861.0\n",
      "106471.0\n"
     ]
    }
   ],
   "source": [
    "nycprim = nycdf.loc[nycdf.lca_case_workloc1_state == \"NY\", :]\n",
    "sfprim = sfdf.loc[sfdf.lca_case_workloc1_state == \"CA\", :]\n",
    "print(nycprim[\"total_workers\"].sum())\n",
    "print(sfprim[\"total_workers\"].sum())"
   ]
  },
  {
   "cell_type": "markdown",
   "metadata": {},
   "source": [
    "There's a similar rate of Secondary workers in both areas, so still about a factor of 2 difference."
   ]
  },
  {
   "cell_type": "markdown",
   "metadata": {},
   "source": [
    "### Hypothesis No. 1\n",
    "\n",
    "Here, I'm going to go with a pretty obvious approach, for anyone that has paid attention to the internet or current affairs in general over the last while. Let's see if the difference in the demand for H1Bs is driven by labour demand in a particular kind of job category which might happen to be represented more in the Bay Area than in NYC.\n",
    "\n",
    "I think an interesting test to use to decide whether something like this is at play would be Fisher's exact test. This takes a 2x2 contingency table of samples which can be classified in two different classes of binary categories. The test then determines the probability of drawing these samples from the same class-association. This would be an appropriate null hypothesis in our case: taking two separate job categories, is the proportion of jobs in NYC versus SF the same in both categories. If the proportions across all pairs of job categories are the same, then we cannot rule out the null hypothesis - i.e. there is no particular job type which explains the difference in visa numbers between SF and NYC. Otherwise, our data lend support to the alternative hypothesis, which is that there is a lot more demand in the Bay Area for particular jobs.\n",
    "\n",
    "I'll perform the test then across all pairs and compare p values between pairs of job categories. I'm restricting the job category to only the 20 highest level categories, which come from the first two digits in the SOC numbers."
   ]
  },
  {
   "cell_type": "code",
   "execution_count": 4,
   "metadata": {},
   "outputs": [],
   "source": [
    "# First add the two dataframes together, removing any rows where there are\n",
    "# no SOC codes (very few) and adding a metro area label\n",
    "nycdf[\"metro\"] = \"NYC\"\n",
    "sfdf[\"metro\"] = \"SF\"\n",
    "socdf = pd.concat([nycdf, sfdf]).dropna(subset=[\"lca_case_soc_code\"])\n",
    "\n",
    "# add a column with job category that only uses first two digits of soc code\n",
    "socdf[\"jobcat\"] = [soc[:2] for soc in socdf.lca_case_soc_code]"
   ]
  },
  {
   "cell_type": "code",
   "execution_count": 58,
   "metadata": {},
   "outputs": [],
   "source": [
    "# count up the total number of workers in each job category for each metro area\n",
    "socdf = socdf.groupby([\"jobcat\", \"metro\"])[\"total_workers\"].sum().reset_index()"
   ]
  },
  {
   "cell_type": "code",
   "execution_count": 59,
   "metadata": {},
   "outputs": [
    {
     "data": {
      "text/html": [
       "<div>\n",
       "<style scoped>\n",
       "    .dataframe tbody tr th:only-of-type {\n",
       "        vertical-align: middle;\n",
       "    }\n",
       "\n",
       "    .dataframe tbody tr th {\n",
       "        vertical-align: top;\n",
       "    }\n",
       "\n",
       "    .dataframe thead th {\n",
       "        text-align: right;\n",
       "    }\n",
       "</style>\n",
       "<table border=\"1\" class=\"dataframe\">\n",
       "  <thead>\n",
       "    <tr style=\"text-align: right;\">\n",
       "      <th></th>\n",
       "      <th>jobcat</th>\n",
       "      <th>metro</th>\n",
       "      <th>total_workers</th>\n",
       "    </tr>\n",
       "  </thead>\n",
       "  <tbody>\n",
       "    <tr>\n",
       "      <th>0</th>\n",
       "      <td>11</td>\n",
       "      <td>NYC</td>\n",
       "      <td>3536.0</td>\n",
       "    </tr>\n",
       "    <tr>\n",
       "      <th>1</th>\n",
       "      <td>11</td>\n",
       "      <td>SF</td>\n",
       "      <td>4482.0</td>\n",
       "    </tr>\n",
       "    <tr>\n",
       "      <th>2</th>\n",
       "      <td>13</td>\n",
       "      <td>NYC</td>\n",
       "      <td>18170.0</td>\n",
       "    </tr>\n",
       "    <tr>\n",
       "      <th>3</th>\n",
       "      <td>13</td>\n",
       "      <td>SF</td>\n",
       "      <td>11073.0</td>\n",
       "    </tr>\n",
       "    <tr>\n",
       "      <th>4</th>\n",
       "      <td>15</td>\n",
       "      <td>NYC</td>\n",
       "      <td>27694.0</td>\n",
       "    </tr>\n",
       "    <tr>\n",
       "      <th>5</th>\n",
       "      <td>15</td>\n",
       "      <td>SF</td>\n",
       "      <td>79158.0</td>\n",
       "    </tr>\n",
       "    <tr>\n",
       "      <th>6</th>\n",
       "      <td>17</td>\n",
       "      <td>NYC</td>\n",
       "      <td>997.0</td>\n",
       "    </tr>\n",
       "    <tr>\n",
       "      <th>7</th>\n",
       "      <td>17</td>\n",
       "      <td>SF</td>\n",
       "      <td>11826.0</td>\n",
       "    </tr>\n",
       "    <tr>\n",
       "      <th>8</th>\n",
       "      <td>19</td>\n",
       "      <td>NYC</td>\n",
       "      <td>1062.0</td>\n",
       "    </tr>\n",
       "    <tr>\n",
       "      <th>9</th>\n",
       "      <td>19</td>\n",
       "      <td>SF</td>\n",
       "      <td>1116.0</td>\n",
       "    </tr>\n",
       "    <tr>\n",
       "      <th>10</th>\n",
       "      <td>21</td>\n",
       "      <td>NYC</td>\n",
       "      <td>172.0</td>\n",
       "    </tr>\n",
       "    <tr>\n",
       "      <th>11</th>\n",
       "      <td>21</td>\n",
       "      <td>SF</td>\n",
       "      <td>76.0</td>\n",
       "    </tr>\n",
       "    <tr>\n",
       "      <th>12</th>\n",
       "      <td>23</td>\n",
       "      <td>NYC</td>\n",
       "      <td>978.0</td>\n",
       "    </tr>\n",
       "    <tr>\n",
       "      <th>13</th>\n",
       "      <td>23</td>\n",
       "      <td>SF</td>\n",
       "      <td>271.0</td>\n",
       "    </tr>\n",
       "    <tr>\n",
       "      <th>14</th>\n",
       "      <td>25</td>\n",
       "      <td>NYC</td>\n",
       "      <td>2800.0</td>\n",
       "    </tr>\n",
       "    <tr>\n",
       "      <th>15</th>\n",
       "      <td>25</td>\n",
       "      <td>SF</td>\n",
       "      <td>352.0</td>\n",
       "    </tr>\n",
       "    <tr>\n",
       "      <th>16</th>\n",
       "      <td>27</td>\n",
       "      <td>NYC</td>\n",
       "      <td>2338.0</td>\n",
       "    </tr>\n",
       "    <tr>\n",
       "      <th>17</th>\n",
       "      <td>27</td>\n",
       "      <td>SF</td>\n",
       "      <td>1516.0</td>\n",
       "    </tr>\n",
       "    <tr>\n",
       "      <th>18</th>\n",
       "      <td>29</td>\n",
       "      <td>NYC</td>\n",
       "      <td>2824.0</td>\n",
       "    </tr>\n",
       "    <tr>\n",
       "      <th>19</th>\n",
       "      <td>29</td>\n",
       "      <td>SF</td>\n",
       "      <td>477.0</td>\n",
       "    </tr>\n",
       "    <tr>\n",
       "      <th>20</th>\n",
       "      <td>31</td>\n",
       "      <td>NYC</td>\n",
       "      <td>36.0</td>\n",
       "    </tr>\n",
       "    <tr>\n",
       "      <th>21</th>\n",
       "      <td>31</td>\n",
       "      <td>SF</td>\n",
       "      <td>1.0</td>\n",
       "    </tr>\n",
       "    <tr>\n",
       "      <th>22</th>\n",
       "      <td>33</td>\n",
       "      <td>NYC</td>\n",
       "      <td>2.0</td>\n",
       "    </tr>\n",
       "    <tr>\n",
       "      <th>23</th>\n",
       "      <td>35</td>\n",
       "      <td>NYC</td>\n",
       "      <td>18.0</td>\n",
       "    </tr>\n",
       "    <tr>\n",
       "      <th>24</th>\n",
       "      <td>35</td>\n",
       "      <td>SF</td>\n",
       "      <td>5.0</td>\n",
       "    </tr>\n",
       "    <tr>\n",
       "      <th>25</th>\n",
       "      <td>39</td>\n",
       "      <td>NYC</td>\n",
       "      <td>5.0</td>\n",
       "    </tr>\n",
       "    <tr>\n",
       "      <th>26</th>\n",
       "      <td>39</td>\n",
       "      <td>SF</td>\n",
       "      <td>3.0</td>\n",
       "    </tr>\n",
       "    <tr>\n",
       "      <th>27</th>\n",
       "      <td>41</td>\n",
       "      <td>NYC</td>\n",
       "      <td>376.0</td>\n",
       "    </tr>\n",
       "    <tr>\n",
       "      <th>28</th>\n",
       "      <td>41</td>\n",
       "      <td>SF</td>\n",
       "      <td>614.0</td>\n",
       "    </tr>\n",
       "    <tr>\n",
       "      <th>29</th>\n",
       "      <td>43</td>\n",
       "      <td>NYC</td>\n",
       "      <td>93.0</td>\n",
       "    </tr>\n",
       "    <tr>\n",
       "      <th>30</th>\n",
       "      <td>43</td>\n",
       "      <td>SF</td>\n",
       "      <td>15.0</td>\n",
       "    </tr>\n",
       "    <tr>\n",
       "      <th>31</th>\n",
       "      <td>45</td>\n",
       "      <td>NYC</td>\n",
       "      <td>1.0</td>\n",
       "    </tr>\n",
       "    <tr>\n",
       "      <th>32</th>\n",
       "      <td>45</td>\n",
       "      <td>SF</td>\n",
       "      <td>1.0</td>\n",
       "    </tr>\n",
       "    <tr>\n",
       "      <th>33</th>\n",
       "      <td>47</td>\n",
       "      <td>NYC</td>\n",
       "      <td>4.0</td>\n",
       "    </tr>\n",
       "    <tr>\n",
       "      <th>34</th>\n",
       "      <td>47</td>\n",
       "      <td>SF</td>\n",
       "      <td>2.0</td>\n",
       "    </tr>\n",
       "    <tr>\n",
       "      <th>35</th>\n",
       "      <td>49</td>\n",
       "      <td>SF</td>\n",
       "      <td>2.0</td>\n",
       "    </tr>\n",
       "    <tr>\n",
       "      <th>36</th>\n",
       "      <td>51</td>\n",
       "      <td>NYC</td>\n",
       "      <td>14.0</td>\n",
       "    </tr>\n",
       "    <tr>\n",
       "      <th>37</th>\n",
       "      <td>51</td>\n",
       "      <td>SF</td>\n",
       "      <td>1.0</td>\n",
       "    </tr>\n",
       "    <tr>\n",
       "      <th>38</th>\n",
       "      <td>53</td>\n",
       "      <td>NYC</td>\n",
       "      <td>1.0</td>\n",
       "    </tr>\n",
       "    <tr>\n",
       "      <th>39</th>\n",
       "      <td>53</td>\n",
       "      <td>SF</td>\n",
       "      <td>1.0</td>\n",
       "    </tr>\n",
       "  </tbody>\n",
       "</table>\n",
       "</div>"
      ],
      "text/plain": [
       "   jobcat metro  total_workers\n",
       "0      11   NYC         3536.0\n",
       "1      11    SF         4482.0\n",
       "2      13   NYC        18170.0\n",
       "3      13    SF        11073.0\n",
       "4      15   NYC        27694.0\n",
       "5      15    SF        79158.0\n",
       "6      17   NYC          997.0\n",
       "7      17    SF        11826.0\n",
       "8      19   NYC         1062.0\n",
       "9      19    SF         1116.0\n",
       "10     21   NYC          172.0\n",
       "11     21    SF           76.0\n",
       "12     23   NYC          978.0\n",
       "13     23    SF          271.0\n",
       "14     25   NYC         2800.0\n",
       "15     25    SF          352.0\n",
       "16     27   NYC         2338.0\n",
       "17     27    SF         1516.0\n",
       "18     29   NYC         2824.0\n",
       "19     29    SF          477.0\n",
       "20     31   NYC           36.0\n",
       "21     31    SF            1.0\n",
       "22     33   NYC            2.0\n",
       "23     35   NYC           18.0\n",
       "24     35    SF            5.0\n",
       "25     39   NYC            5.0\n",
       "26     39    SF            3.0\n",
       "27     41   NYC          376.0\n",
       "28     41    SF          614.0\n",
       "29     43   NYC           93.0\n",
       "30     43    SF           15.0\n",
       "31     45   NYC            1.0\n",
       "32     45    SF            1.0\n",
       "33     47   NYC            4.0\n",
       "34     47    SF            2.0\n",
       "35     49    SF            2.0\n",
       "36     51   NYC           14.0\n",
       "37     51    SF            1.0\n",
       "38     53   NYC            1.0\n",
       "39     53    SF            1.0"
      ]
     },
     "execution_count": 59,
     "metadata": {},
     "output_type": "execute_result"
    }
   ],
   "source": [
    "# here's our resulting data table\n",
    "socdf"
   ]
  },
  {
   "cell_type": "code",
   "execution_count": 61,
   "metadata": {},
   "outputs": [],
   "source": [
    "# let me just drop the rows where a job category is not shared in both metro areas\n",
    "# these are both in single digits anyway\n",
    "socdf = socdf.drop(socdf.index[[22, 35]])"
   ]
  },
  {
   "cell_type": "code",
   "execution_count": 65,
   "metadata": {},
   "outputs": [],
   "source": [
    "# here's an example of one pair computation, of a pair that are quite close in proportions between the cities\n",
    "oddsr, pval = stats.fisher_exact([[int(socdf.iloc[0].total_workers), int(socdf.iloc[1].total_workers)],\n",
    "                                  [int(socdf.iloc[8].total_workers), int(socdf.iloc[9].total_workers)]])"
   ]
  },
  {
   "cell_type": "code",
   "execution_count": 66,
   "metadata": {},
   "outputs": [
    {
     "data": {
      "text/plain": [
       "0.82904877513821762"
      ]
     },
     "execution_count": 66,
     "metadata": {},
     "output_type": "execute_result"
    }
   ],
   "source": [
    "oddsr"
   ]
  },
  {
   "cell_type": "code",
   "execution_count": 67,
   "metadata": {},
   "outputs": [
    {
     "data": {
      "text/plain": [
       "0.00011271734407661523"
      ]
     },
     "execution_count": 67,
     "metadata": {},
     "output_type": "execute_result"
    }
   ],
   "source": [
    "# so they are quite likely to be from distinct distributions, even in the similar jobs\n",
    "# the Fisher test is very exact, using the hypergeometric function, so I would expect this\n",
    "# but we can probably still see an interesting trend to support the hypothesis\n",
    "pval"
   ]
  },
  {
   "cell_type": "code",
   "execution_count": 121,
   "metadata": {},
   "outputs": [],
   "source": [
    "# now to compute over all pairs and store in a matrix\n",
    "ncats = socdf.jobcat.nunique()\n",
    "pmat = np.zeros((ncats, ncats))\n",
    "\n",
    "for i in range(ncats - 1):\n",
    "    for j in range(i + 1, ncats - 1):\n",
    "        oddsr, pval = stats.fisher_exact([[int(socdf.iloc[2 * i].total_workers), int(socdf.iloc[2 * i + 1].total_workers)],\n",
    "                                          [int(socdf.iloc[2 * j].total_workers), int(socdf.iloc[2 * j + 1].total_workers)]])\n",
    "        \n",
    "        # here I convert the resulting p value to a \"score\" by taking the negative log\n",
    "        if pval > 0:\n",
    "            pmat[i, j] = -np.log10(pval)\n",
    "        # if the pvalue is so small that it is zero in machine precision, I assign a greater score than the others\n",
    "        else:\n",
    "            pmat[i, j] = 350"
   ]
  },
  {
   "cell_type": "code",
   "execution_count": 122,
   "metadata": {},
   "outputs": [
    {
     "data": {
      "text/plain": [
       "<matplotlib.axes._subplots.AxesSubplot at 0x7f2c353399b0>"
      ]
     },
     "execution_count": 122,
     "metadata": {},
     "output_type": "execute_result"
    },
    {
     "data": {
      "image/png": "[encoded data removed]",
      "text/plain": [
       "<matplotlib.figure.Figure at 0x7f2c351669e8>"
      ]
     },
     "metadata": {},
     "output_type": "display_data"
    }
   ],
   "source": [
    "# we can see the results in a heatmap\n",
    "sns.heatmap(pmat, cmap=plt.get_cmap(\"binary\"))"
   ]
  },
  {
   "cell_type": "markdown",
   "metadata": {},
   "source": [
    "Here it's clear that the first four occupations are from very different populations between the two metropolitan areas, particularly the third and fourth job categories. It's no surprise to see what these correspond to, from the Bureau of Labour Statistics https://www.bls.gov/oes/current/oes_stru.htm\n",
    "\n",
    "- 15 = Computer and Mathematical Occupations\n",
    "- 17 = Architecture and Engineering Occupations\n",
    "\n",
    "It's also easy to see this trend without any kind of statistical test, by just looking at the numbers per job category compared against each other, where we can see computer and engineering jobs are in massively higher demand in SF:"
   ]
  },
  {
   "cell_type": "code",
   "execution_count": 124,
   "metadata": {},
   "outputs": [
    {
     "data": {
      "text/plain": [
       "<matplotlib.axes._subplots.AxesSubplot at 0x7f2c34f6f9b0>"
      ]
     },
     "execution_count": 124,
     "metadata": {},
     "output_type": "execute_result"
    },
    {
     "data": {
      "image/png": "[encoded data removed]",
      "text/plain": [
       "<matplotlib.figure.Figure at 0x7f2c34f6f9e8>"
      ]
     },
     "metadata": {},
     "output_type": "display_data"
    }
   ],
   "source": [
    "fig = plt.figure(figsize=(12, 9))\n",
    "ax = fig.add_subplot(111)\n",
    "sns.barplot(x=\"jobcat\", y=\"total_workers\", hue=\"metro\",\n",
    "            data=socdf,\n",
    "            ax=ax)"
   ]
  },
  {
   "cell_type": "markdown",
   "metadata": {},
   "source": [
    "### Hypothesis No. 2\n",
    "\n",
    "So at least a good chunk of the difference in demand for H1B workers is driven by need for people in certain classes of job function. The difference in the computer/maths occupation numbers is alone sufficient to explain the 50k difference in NYC and SF numbers. But now I wonder if this is a general trend in the Bay Area in general that results in this higher demand? Or is there maybe a set of companies which are driving it. Is the average company in NYC and SF more or less the same in terms of how many employees they need and there are just a few companies in particular which are hiring a lot more?\n",
    "\n",
    "Taking a look at a violin plot version of the last graph, where we see the distribution of workers sought per company within the different job categories suggests this may be so:"
   ]
  },
  {
   "cell_type": "code",
   "execution_count": 77,
   "metadata": {},
   "outputs": [
    {
     "data": {
      "text/plain": [
       "<matplotlib.axes._subplots.AxesSubplot at 0x7f32f67875c0>"
      ]
     },
     "execution_count": 77,
     "metadata": {},
     "output_type": "execute_result"
    },
    {
     "data": {
      "image/png": "[encoded data removed]",
      "text/plain": [
       "<matplotlib.figure.Figure at 0x7f32f557dfd0>"
      ]
     },
     "metadata": {},
     "output_type": "display_data"
    }
   ],
   "source": [
    "empdf = pd.concat([nycdf, sfdf]).dropna(subset=[\"lca_case_soc_code\"])\n",
    "empdf[\"jobcat\"] = [soc[:2] for soc in empdf.lca_case_soc_code]\n",
    "empdf = empdf.groupby([\"metro\", \"jobcat\", \"lca_case_employer_name\"])[\"total_workers\"].sum().reset_index()\n",
    "\n",
    "fig = plt.figure(figsize=(20,15))\n",
    "sns.violinplot(x=\"jobcat\", y=\"total_workers\", hue=\"metro\", data=empdf, split=True)"
   ]
  },
  {
   "cell_type": "code",
   "execution_count": 78,
   "metadata": {},
   "outputs": [
    {
     "data": {
      "text/plain": [
       "(0, 200)"
      ]
     },
     "execution_count": 78,
     "metadata": {},
     "output_type": "execute_result"
    },
    {
     "data": {
      "image/png": "[encoded data removed]",
      "text/plain": [
       "<matplotlib.figure.Figure at 0x7f32fbbdd7f0>"
      ]
     },
     "metadata": {},
     "output_type": "display_data"
    }
   ],
   "source": [
    "# zooming in a little on the bean plot...\n",
    "fig = plt.figure(figsize=(20,15))\n",
    "ax = fig.add_subplot(111)\n",
    "sns.violinplot(x=\"jobcat\", y=\"total_workers\", hue=\"metro\", data=empdf, split=True)\n",
    "ax.set_ylim([0,200])"
   ]
  },
  {
   "cell_type": "markdown",
   "metadata": {},
   "source": [
    "To test the similarity of the distributions of worker demand per company in a particular job category, I will use the Kolmogorov-Smirnov test. This basically takes a distance metric for comparing the cumulative distribution functions of two random variables and tests whether the variables were drawn from the same distribution. So if my hypothesis is correct, I expect that if I run this test on samples from NYC and SF of the workers demanded by different companies, excluding numbers higher than some value, that there will not be a significant difference in the distributions.\n",
    "\n",
    "As a crude first approach, let's take a look at the CDFs together, first for the Computer/Maths occupations:"
   ]
  },
  {
   "cell_type": "code",
   "execution_count": 79,
   "metadata": {},
   "outputs": [],
   "source": [
    "nycomp = empdf.loc[np.logical_and(empdf.metro == \"NYC\", empdf.jobcat == \"15\"), [\"total_workers\"]].values.flatten()\n",
    "sfcomp = empdf.loc[np.logical_and(empdf.metro == \"SF\", empdf.jobcat == \"15\"), [\"total_workers\"]].values.flatten()"
   ]
  },
  {
   "cell_type": "code",
   "execution_count": 80,
   "metadata": {},
   "outputs": [
    {
     "data": {
      "text/plain": [
       "<matplotlib.legend.Legend at 0x7f32f617af60>"
      ]
     },
     "execution_count": 80,
     "metadata": {},
     "output_type": "execute_result"
    },
    {
     "data": {
      "image/png": "[encoded data removed]",
      "text/plain": [
       "<matplotlib.figure.Figure at 0x7f32f5ff5160>"
      ]
     },
     "metadata": {},
     "output_type": "display_data"
    }
   ],
   "source": [
    "binedges = np.logspace(-1, 1.8, 49)\n",
    "nyhist = np.histogram(nycomp, bins=binedges)  # , normed=True)\n",
    "sfhist = np.histogram(sfcomp, bins=binedges)  # , normed=True)\n",
    "\n",
    "fig = plt.figure()\n",
    "ax = fig.add_subplot(111)\n",
    "ax.scatter(0.5 * (nyhist[1][:-1] + nyhist[1][1:]), np.cumsum(nyhist[0]), label=\"NY\")\n",
    "ax.scatter(0.5 * (sfhist[1][:-1] + sfhist[1][1:]), np.cumsum(sfhist[0]), label=\"SF\")\n",
    "\n",
    "ax.set_xlabel(\"workers per company\")\n",
    "ax.set_ylabel(\"cumulative sum of workers\")\n",
    "\n",
    "handles, labels = ax.get_legend_handles_labels()\n",
    "ax.legend(handles, labels, loc=4)"
   ]
  },
  {
   "cell_type": "markdown",
   "metadata": {},
   "source": [
    "It looks like they diverge really very early on, so it's pretty clearly not the case that only some companies in the tails are contributing to the big difference in worker demand in software... Though the median values are very small so we'll see better by looking much closer. Oh well, let's run the K-S test anyway just to show that it confirms this. Let's make an exploratory plot for category 17 too, this time a Q-Q plot:"
   ]
  },
  {
   "cell_type": "code",
   "execution_count": 81,
   "metadata": {},
   "outputs": [
    {
     "data": {
      "text/plain": [
       "Text(0,0.5,'SF quantiles')"
      ]
     },
     "execution_count": 81,
     "metadata": {},
     "output_type": "execute_result"
    },
    {
     "data": {
      "image/png": "[encoded data removed]",
      "text/plain": [
       "<matplotlib.figure.Figure at 0x7f32f6183d68>"
      ]
     },
     "metadata": {},
     "output_type": "display_data"
    }
   ],
   "source": [
    "nyeng = empdf.loc[np.logical_and(empdf.metro == \"NYC\", empdf.jobcat == \"17\"), [\"total_workers\"]].values.flatten()\n",
    "sfeng = empdf.loc[np.logical_and(empdf.metro == \"SF\", empdf.jobcat == \"17\"), [\"total_workers\"]].values.flatten()\n",
    "\n",
    "nyqs = [np.percentile(nyeng, a) for a in range(5,100,5)]\n",
    "sfqs = [np.percentile(sfeng, a) for a in range(5,100,5)]\n",
    "\n",
    "fig = plt.figure()\n",
    "ax = fig.add_subplot(111)\n",
    "ax.scatter(nyqs, sfqs)\n",
    "ax.plot(nyqs, nyqs)\n",
    "\n",
    "ax.set_xlabel(\"NY quantiles\")\n",
    "ax.set_ylabel(\"SF quantiles\")"
   ]
  },
  {
   "cell_type": "markdown",
   "metadata": {},
   "source": [
    "The engineering job distributions pretty rapidly as well, at least for the last half of the quantiles. So our K-S tests should tell a similar story here too"
   ]
  },
  {
   "cell_type": "code",
   "execution_count": 82,
   "metadata": {},
   "outputs": [],
   "source": [
    "# performing K-S test for a range of missing upper quantiles\n",
    "quantiles = [a for a in range(5, 100, 5)]\n",
    "\n",
    "kscomp = []\n",
    "for q in quantiles:\n",
    "    kscomp.append(stats.ks_2samp(nycomp[np.where(nycomp <= np.percentile(nycomp, q))],\n",
    "                                 sfcomp[np.where(sfcomp <= np.percentile(sfcomp, q))]))\n",
    "    \n",
    "kseng = []\n",
    "for q in quantiles:\n",
    "    kseng.append(stats.ks_2samp(nyeng[np.where(nyeng <= np.percentile(nyeng, q))],\n",
    "                                 sfeng[np.where(sfeng <= np.percentile(sfeng, q))]))"
   ]
  },
  {
   "cell_type": "code",
   "execution_count": 83,
   "metadata": {},
   "outputs": [],
   "source": [
    "# I'll transform the p-values to a score again to make visualisation easier\n",
    "kscomp = np.abs(np.log10([ks.pvalue for ks in kscomp]))\n",
    "kseng = np.abs(np.log10([ks.pvalue for ks in kseng]))"
   ]
  },
  {
   "cell_type": "code",
   "execution_count": 84,
   "metadata": {},
   "outputs": [
    {
     "data": {
      "text/plain": [
       "<matplotlib.legend.Legend at 0x7f32f6294ba8>"
      ]
     },
     "execution_count": 84,
     "metadata": {},
     "output_type": "execute_result"
    },
    {
     "data": {
      "image/png": "[encoded data removed]",
      "text/plain": [
       "<matplotlib.figure.Figure at 0x7f32f5ed4898>"
      ]
     },
     "metadata": {},
     "output_type": "display_data"
    }
   ],
   "source": [
    "fig = plt.figure()\n",
    "ax = fig.add_subplot(111)\n",
    "ax.scatter(quantiles, kscomp, label=\"Comp/Math\")\n",
    "ax.scatter(quantiles, kseng, label=\"Arch/Eng\")\n",
    "\n",
    "ax.set_xlabel(\"quantiles\")\n",
    "ax.set_ylabel(\"K-S test p-value score\")\n",
    "\n",
    "handles, labels = ax.get_legend_handles_labels()\n",
    "ax.legend(handles, labels, loc=2)"
   ]
  },
  {
   "cell_type": "markdown",
   "metadata": {},
   "source": [
    "So here we see that the K-S test shows the distributions to actually be indistinguishably similar up to around the median, before diverging very quickly to levels where the null hypothesis must be rejected - the smaller non-zero scores still represent p-values of ~10e-10. This makes more sense when we see what the median values of the distributions are:"
   ]
  },
  {
   "cell_type": "code",
   "execution_count": 85,
   "metadata": {},
   "outputs": [
    {
     "name": "stdout",
     "output_type": "stream",
     "text": [
      "1.0 2.0\n",
      "1.0 1.0\n"
     ]
    }
   ],
   "source": [
    "print(np.median(nycomp), np.median(sfcomp))\n",
    "print(np.median(nyeng), np.median(sfeng))"
   ]
  },
  {
   "cell_type": "markdown",
   "metadata": {},
   "source": [
    "So since we are dealing with counts, with a median of order unity, the K-S test turns out to not be such a good idea actually. I think what we can infer from the plots and tests is that, while the vast majority of firms in both places are indeed only applying for very small numbers of workers, the firms who apply for more than one worker in SF are applying for larger numbers than those firms that are applying for more in NY. For computer/maths jobs in SF, companies are more likely to be hiring more than one worker and the rate grows very rapidly thereafter as compared with NY."
   ]
  },
  {
   "cell_type": "markdown",
   "metadata": {},
   "source": [
    "### Hypothesis No. 3\n",
    "\n",
    "One interesting feature of the data to look into is the prevailing wage for a particular job in a particular area. Companies are required to provide this in the LCA so that the Department of Labor will know whether the H1B visa process is being taken advantage of to hire lower wage foreign workers and take advantage of their vulnerability by paying them less than their american counterparts. This suggests that one reason why companies may choose to hire more workers in a given region compared with another is because they may be able to pay less for the same work in that region since they can provide evidence for lower prevailing wages.\n",
    "\n",
    "While it seems intuitively unlikely that SF has lower wages than NY, I think this is still interesting to investigate. The prevailing wage is defined in the data by surveys provided with the LCA, so whether or not the wages are indeed lower, there may be surveys which can show the DOL that they are and thus allow companies in SF to hire workers at a lower cost than they could if they were in NY, where surveys may be more accurate.\n",
    "\n",
    "To investigate this hypothesis, I will perform a regression for the number of workers that are hired, as a function of prevailing wages in the area, while controlling for job category and metro area. I'll do this just for people who are in the areas as their primary workplace, so as not to complicate the calculation. This seems reasonable, as I doubt companies are hiring multi-location workers on grounds of there being favourable work rates in NYC and SF.\n",
    "\n",
    "First let's take a look at the data, where I am only including the most common job categories, to be sure I have enough statistical power for each of the variables:"
   ]
  },
  {
   "cell_type": "code",
   "execution_count": 161,
   "metadata": {},
   "outputs": [
    {
     "data": {
      "text/plain": [
       "<matplotlib.axes._subplots.AxesSubplot at 0x7f32f46e3b38>"
      ]
     },
     "execution_count": 161,
     "metadata": {},
     "output_type": "execute_result"
    },
    {
     "data": {
      "image/png": "[encoded data removed]",
      "text/plain": [
       "<matplotlib.figure.Figure at 0x7f32f4727eb8>"
      ]
     },
     "metadata": {},
     "output_type": "display_data"
    }
   ],
   "source": [
    "regdf = pd.concat([nycprim, sfprim]).dropna(subset=[\"lca_case_soc_code\", \"lca_case_soc_code\", \"total_workers\"])\n",
    "regdf[\"jobcat\"] = [soc[:2] for soc in regdf.lca_case_soc_code]\n",
    "regdf = regdf.loc[regdf.jobcat.isin([\"11\", \"13\", \"15\", \"17\"]), :]\n",
    "\n",
    "# sns.distplot(np.exp(regdf.total_workers.dropna()).values.flatten())\n",
    "sns.distplot(regdf.loc[regdf.total_workers > 1, [\"total_workers\"]].dropna().values.flatten())"
   ]
  },
  {
   "cell_type": "markdown",
   "metadata": {},
   "source": [
    "Here we can see that the total_worker outcome counts are not following a regular Poisson distribution but overdispersed. The variance is much greater than the mean so we will be best off using a more general/flexible model for the regression, like a negative binomial."
   ]
  },
  {
   "cell_type": "code",
   "execution_count": 162,
   "metadata": {},
   "outputs": [
    {
     "data": {
      "text/plain": [
       "count    71715.000000\n",
       "mean         2.067963\n",
       "std          5.817965\n",
       "min          1.000000\n",
       "25%          1.000000\n",
       "50%          1.000000\n",
       "75%          1.000000\n",
       "max        100.000000\n",
       "Name: total_workers, dtype: float64"
      ]
     },
     "execution_count": 162,
     "metadata": {},
     "output_type": "execute_result"
    }
   ],
   "source": [
    "regdf.total_workers.describe()"
   ]
  },
  {
   "cell_type": "markdown",
   "metadata": {},
   "source": [
    "here I just set up the design matrix for the regression, one-hot encoding the categorical variables appropriately, and standardising the prevailing wages data so that it is in the ones rather than the hundreds of thousands"
   ]
  },
  {
   "cell_type": "code",
   "execution_count": 163,
   "metadata": {},
   "outputs": [
    {
     "data": {
      "text/plain": [
       "count    7.171500e+04\n",
       "mean    -2.377888e-18\n",
       "std      7.353291e-02\n",
       "min     -2.050845e-01\n",
       "25%     -5.601261e-02\n",
       "50%     -1.327388e-02\n",
       "75%      4.142014e-02\n",
       "max      7.949155e-01\n",
       "Name: pw_1, dtype: float64"
      ]
     },
     "execution_count": 163,
     "metadata": {},
     "output_type": "execute_result"
    }
   ],
   "source": [
    "# make dummy columns for the categorical variables\n",
    "jobcatdf = pd.get_dummies(regdf[\"jobcat\"], prefix=\"jobcat\")\n",
    "metrodf = pd.get_dummies(regdf[\"metro\"])\n",
    "\n",
    "# I'll standardise the prevailing wages data, so it's closer in magnitude to what we're looking for\n",
    "normpw = (regdf.pw_1 - regdf.pw_1.mean()) / (regdf.pw_1.max() - regdf.pw_1.min())\n",
    "\n",
    "# drop one of the category columns to remove redundancy\n",
    "depvars = pd.concat([metrodf.drop(columns=\"NYC\"), jobcatdf.drop(columns=[\"jobcat_17\"]), normpw], axis=1)\n",
    "depvars.pw_1.describe()"
   ]
  },
  {
   "cell_type": "code",
   "execution_count": 164,
   "metadata": {},
   "outputs": [
    {
     "data": {
      "text/html": [
       "<div>\n",
       "<style scoped>\n",
       "    .dataframe tbody tr th:only-of-type {\n",
       "        vertical-align: middle;\n",
       "    }\n",
       "\n",
       "    .dataframe tbody tr th {\n",
       "        vertical-align: top;\n",
       "    }\n",
       "\n",
       "    .dataframe thead th {\n",
       "        text-align: right;\n",
       "    }\n",
       "</style>\n",
       "<table border=\"1\" class=\"dataframe\">\n",
       "  <thead>\n",
       "    <tr style=\"text-align: right;\">\n",
       "      <th></th>\n",
       "      <th>const</th>\n",
       "      <th>SF</th>\n",
       "      <th>jobcat_11</th>\n",
       "      <th>jobcat_13</th>\n",
       "      <th>jobcat_15</th>\n",
       "      <th>pw_1</th>\n",
       "    </tr>\n",
       "  </thead>\n",
       "  <tbody>\n",
       "    <tr>\n",
       "      <th>count</th>\n",
       "      <td>71715.0</td>\n",
       "      <td>71715.000000</td>\n",
       "      <td>71715.000000</td>\n",
       "      <td>71715.000000</td>\n",
       "      <td>71715.000000</td>\n",
       "      <td>7.171500e+04</td>\n",
       "    </tr>\n",
       "    <tr>\n",
       "      <th>mean</th>\n",
       "      <td>1.0</td>\n",
       "      <td>0.669665</td>\n",
       "      <td>0.058412</td>\n",
       "      <td>0.155728</td>\n",
       "      <td>0.711093</td>\n",
       "      <td>-2.377888e-18</td>\n",
       "    </tr>\n",
       "    <tr>\n",
       "      <th>std</th>\n",
       "      <td>0.0</td>\n",
       "      <td>0.470337</td>\n",
       "      <td>0.234522</td>\n",
       "      <td>0.362599</td>\n",
       "      <td>0.453258</td>\n",
       "      <td>7.353291e-02</td>\n",
       "    </tr>\n",
       "    <tr>\n",
       "      <th>min</th>\n",
       "      <td>1.0</td>\n",
       "      <td>0.000000</td>\n",
       "      <td>0.000000</td>\n",
       "      <td>0.000000</td>\n",
       "      <td>0.000000</td>\n",
       "      <td>-2.050845e-01</td>\n",
       "    </tr>\n",
       "    <tr>\n",
       "      <th>25%</th>\n",
       "      <td>1.0</td>\n",
       "      <td>0.000000</td>\n",
       "      <td>0.000000</td>\n",
       "      <td>0.000000</td>\n",
       "      <td>0.000000</td>\n",
       "      <td>-5.601261e-02</td>\n",
       "    </tr>\n",
       "    <tr>\n",
       "      <th>50%</th>\n",
       "      <td>1.0</td>\n",
       "      <td>1.000000</td>\n",
       "      <td>0.000000</td>\n",
       "      <td>0.000000</td>\n",
       "      <td>1.000000</td>\n",
       "      <td>-1.327388e-02</td>\n",
       "    </tr>\n",
       "    <tr>\n",
       "      <th>75%</th>\n",
       "      <td>1.0</td>\n",
       "      <td>1.000000</td>\n",
       "      <td>0.000000</td>\n",
       "      <td>0.000000</td>\n",
       "      <td>1.000000</td>\n",
       "      <td>4.142014e-02</td>\n",
       "    </tr>\n",
       "    <tr>\n",
       "      <th>max</th>\n",
       "      <td>1.0</td>\n",
       "      <td>1.000000</td>\n",
       "      <td>1.000000</td>\n",
       "      <td>1.000000</td>\n",
       "      <td>1.000000</td>\n",
       "      <td>7.949155e-01</td>\n",
       "    </tr>\n",
       "  </tbody>\n",
       "</table>\n",
       "</div>"
      ],
      "text/plain": [
       "         const            SF     jobcat_11     jobcat_13     jobcat_15  \\\n",
       "count  71715.0  71715.000000  71715.000000  71715.000000  71715.000000   \n",
       "mean       1.0      0.669665      0.058412      0.155728      0.711093   \n",
       "std        0.0      0.470337      0.234522      0.362599      0.453258   \n",
       "min        1.0      0.000000      0.000000      0.000000      0.000000   \n",
       "25%        1.0      0.000000      0.000000      0.000000      0.000000   \n",
       "50%        1.0      1.000000      0.000000      0.000000      1.000000   \n",
       "75%        1.0      1.000000      0.000000      0.000000      1.000000   \n",
       "max        1.0      1.000000      1.000000      1.000000      1.000000   \n",
       "\n",
       "               pw_1  \n",
       "count  7.171500e+04  \n",
       "mean  -2.377888e-18  \n",
       "std    7.353291e-02  \n",
       "min   -2.050845e-01  \n",
       "25%   -5.601261e-02  \n",
       "50%   -1.327388e-02  \n",
       "75%    4.142014e-02  \n",
       "max    7.949155e-01  "
      ]
     },
     "execution_count": 164,
     "metadata": {},
     "output_type": "execute_result"
    }
   ],
   "source": [
    "# add a constant factor for regression\n",
    "X = sm.add_constant(depvars)\n",
    "X.describe()"
   ]
  },
  {
   "cell_type": "markdown",
   "metadata": {},
   "source": [
    "taking a quick look at the covariance of the dependent variables, we can see that computer/maths jobs show some correlation with prevailing wages, which is not unexpected:"
   ]
  },
  {
   "cell_type": "code",
   "execution_count": 165,
   "metadata": {},
   "outputs": [
    {
     "data": {
      "text/plain": [
       "<matplotlib.axes._subplots.AxesSubplot at 0x7f32f4df1fd0>"
      ]
     },
     "execution_count": 165,
     "metadata": {},
     "output_type": "execute_result"
    },
    {
     "data": {
      "image/png": "[encoded data removed]",
      "text/plain": [
       "<matplotlib.figure.Figure at 0x7f32f4c66b70>"
      ]
     },
     "metadata": {},
     "output_type": "display_data"
    }
   ],
   "source": [
    "sns.heatmap(X.corr())"
   ]
  },
  {
   "cell_type": "code",
   "execution_count": 166,
   "metadata": {},
   "outputs": [
    {
     "data": {
      "text/plain": [
       "<matplotlib.axes._subplots.AxesSubplot at 0x7f32f4c05e48>"
      ]
     },
     "execution_count": 166,
     "metadata": {},
     "output_type": "execute_result"
    },
    {
     "data": {
      "image/png": "[encoded data removed]",
      "text/plain": [
       "<matplotlib.figure.Figure at 0x7f32f4bbc588>"
      ]
     },
     "metadata": {},
     "output_type": "display_data"
    }
   ],
   "source": [
    "sns.distplot(depvars.pw_1)"
   ]
  },
  {
   "cell_type": "markdown",
   "metadata": {},
   "source": [
    "Here I'll run a Poisson regression just for comparison:"
   ]
  },
  {
   "cell_type": "code",
   "execution_count": 169,
   "metadata": {},
   "outputs": [
    {
     "name": "stdout",
     "output_type": "stream",
     "text": [
      "Warning: Maximum number of iterations has been exceeded.\n"
     ]
    },
    {
     "name": "stderr",
     "output_type": "stream",
     "text": [
      "/home/kilian/.envs/elucd/lib/python3.6/site-packages/statsmodels/base/model.py:496: ConvergenceWarning: Maximum Likelihood optimization failed to converge. Check mle_retvals\n",
      "  \"Check mle_retvals\", ConvergenceWarning)\n"
     ]
    },
    {
     "data": {
      "text/html": [
       "<table class=\"simpletable\">\n",
       "<caption>Poisson Regression Results</caption>\n",
       "<tr>\n",
       "  <th>Dep. Variable:</th>   <td>total_workers</td>  <th>  No. Observations:  </th>   <td> 71715</td>   \n",
       "</tr>\n",
       "<tr>\n",
       "  <th>Model:</th>              <td>Poisson</td>     <th>  Df Residuals:      </th>   <td> 71709</td>   \n",
       "</tr>\n",
       "<tr>\n",
       "  <th>Method:</th>               <td>MLE</td>       <th>  Df Model:          </th>   <td>     5</td>   \n",
       "</tr>\n",
       "<tr>\n",
       "  <th>Date:</th>          <td>Sat, 02 Dec 2017</td> <th>  Pseudo R-squ.:     </th>   <td>-0.1141</td>  \n",
       "</tr>\n",
       "<tr>\n",
       "  <th>Time:</th>              <td>00:27:39</td>     <th>  Log-Likelihood:    </th> <td>-2.4630e+05</td>\n",
       "</tr>\n",
       "<tr>\n",
       "  <th>converged:</th>           <td>False</td>      <th>  LL-Null:           </th> <td>-2.2107e+05</td>\n",
       "</tr>\n",
       "<tr>\n",
       "  <th> </th>                      <td> </td>        <th>  LLR p-value:       </th>   <td> 1.000</td>   \n",
       "</tr>\n",
       "</table>\n",
       "<table class=\"simpletable\">\n",
       "<tr>\n",
       "      <td></td>         <th>coef</th>     <th>std err</th>      <th>z</th>      <th>P>|z|</th>  <th>[0.025</th>    <th>0.975]</th>  \n",
       "</tr>\n",
       "<tr>\n",
       "  <th>const</th>     <td>    0.0480</td> <td>    0.015</td> <td>    3.228</td> <td> 0.001</td> <td>    0.019</td> <td>    0.077</td>\n",
       "</tr>\n",
       "<tr>\n",
       "  <th>SF</th>        <td>    0.0263</td> <td>    0.008</td> <td>    3.159</td> <td> 0.002</td> <td>    0.010</td> <td>    0.043</td>\n",
       "</tr>\n",
       "<tr>\n",
       "  <th>jobcat_11</th> <td>    0.0096</td> <td>    0.021</td> <td>    0.464</td> <td> 0.643</td> <td>   -0.031</td> <td>    0.050</td>\n",
       "</tr>\n",
       "<tr>\n",
       "  <th>jobcat_13</th> <td>   -0.0288</td> <td>    0.017</td> <td>   -1.714</td> <td> 0.086</td> <td>   -0.062</td> <td>    0.004</td>\n",
       "</tr>\n",
       "<tr>\n",
       "  <th>jobcat_15</th> <td>    0.0321</td> <td>    0.014</td> <td>    2.316</td> <td> 0.021</td> <td>    0.005</td> <td>    0.059</td>\n",
       "</tr>\n",
       "<tr>\n",
       "  <th>pw_1</th>      <td>   -0.0135</td> <td>    0.053</td> <td>   -0.254</td> <td> 0.799</td> <td>   -0.118</td> <td>    0.091</td>\n",
       "</tr>\n",
       "</table>"
      ],
      "text/plain": [
       "<class 'statsmodels.iolib.summary.Summary'>\n",
       "\"\"\"\n",
       "                          Poisson Regression Results                          \n",
       "==============================================================================\n",
       "Dep. Variable:          total_workers   No. Observations:                71715\n",
       "Model:                        Poisson   Df Residuals:                    71709\n",
       "Method:                           MLE   Df Model:                            5\n",
       "Date:                Sat, 02 Dec 2017   Pseudo R-squ.:                 -0.1141\n",
       "Time:                        00:27:39   Log-Likelihood:            -2.4630e+05\n",
       "converged:                      False   LL-Null:                   -2.2107e+05\n",
       "                                        LLR p-value:                     1.000\n",
       "==============================================================================\n",
       "                 coef    std err          z      P>|z|      [0.025      0.975]\n",
       "------------------------------------------------------------------------------\n",
       "const          0.0480      0.015      3.228      0.001       0.019       0.077\n",
       "SF             0.0263      0.008      3.159      0.002       0.010       0.043\n",
       "jobcat_11      0.0096      0.021      0.464      0.643      -0.031       0.050\n",
       "jobcat_13     -0.0288      0.017     -1.714      0.086      -0.062       0.004\n",
       "jobcat_15      0.0321      0.014      2.316      0.021       0.005       0.059\n",
       "pw_1          -0.0135      0.053     -0.254      0.799      -0.118       0.091\n",
       "==============================================================================\n",
       "\"\"\""
      ]
     },
     "execution_count": 169,
     "metadata": {},
     "output_type": "execute_result"
    }
   ],
   "source": [
    "stats.chisqprob = lambda chisq, df: stats.chi2.sf(chisq, df)  # workaround for a statsmodel error\n",
    "model = sm.Poisson(regdf.total_workers, X).fit(method=\"nm\")\n",
    "model.summary()"
   ]
  },
  {
   "cell_type": "markdown",
   "metadata": {},
   "source": [
    "And here's the negative binomial regression"
   ]
  },
  {
   "cell_type": "code",
   "execution_count": 168,
   "metadata": {},
   "outputs": [
    {
     "name": "stdout",
     "output_type": "stream",
     "text": [
      "Warning: Maximum number of iterations has been exceeded.\n"
     ]
    },
    {
     "name": "stderr",
     "output_type": "stream",
     "text": [
      "/home/kilian/.envs/elucd/lib/python3.6/site-packages/statsmodels/base/model.py:496: ConvergenceWarning: Maximum Likelihood optimization failed to converge. Check mle_retvals\n",
      "  \"Check mle_retvals\", ConvergenceWarning)\n"
     ]
    },
    {
     "data": {
      "text/html": [
       "<table class=\"simpletable\">\n",
       "<caption>NegativeBinomial Regression Results</caption>\n",
       "<tr>\n",
       "  <th>Dep. Variable:</th>   <td>total_workers</td>  <th>  No. Observations:  </th>   <td> 71715</td>   \n",
       "</tr>\n",
       "<tr>\n",
       "  <th>Model:</th>         <td>NegativeBinomial</td> <th>  Df Residuals:      </th>   <td> 71709</td>   \n",
       "</tr>\n",
       "<tr>\n",
       "  <th>Method:</th>               <td>MLE</td>       <th>  Df Model:          </th>   <td>     5</td>   \n",
       "</tr>\n",
       "<tr>\n",
       "  <th>Date:</th>          <td>Sat, 02 Dec 2017</td> <th>  Pseudo R-squ.:     </th>  <td>0.001872</td>  \n",
       "</tr>\n",
       "<tr>\n",
       "  <th>Time:</th>              <td>00:27:03</td>     <th>  Log-Likelihood:    </th> <td>-1.3846e+05</td>\n",
       "</tr>\n",
       "<tr>\n",
       "  <th>converged:</th>           <td>False</td>      <th>  LL-Null:           </th> <td>-1.3872e+05</td>\n",
       "</tr>\n",
       "<tr>\n",
       "  <th> </th>                      <td> </td>        <th>  LLR p-value:       </th> <td>4.920e-110</td> \n",
       "</tr>\n",
       "</table>\n",
       "<table class=\"simpletable\">\n",
       "<tr>\n",
       "      <td></td>         <th>coef</th>     <th>std err</th>      <th>z</th>      <th>P>|z|</th>  <th>[0.025</th>    <th>0.975]</th>  \n",
       "</tr>\n",
       "<tr>\n",
       "  <th>const</th>     <td>    0.8568</td> <td>    0.018</td> <td>   46.568</td> <td> 0.000</td> <td>    0.821</td> <td>    0.893</td>\n",
       "</tr>\n",
       "<tr>\n",
       "  <th>SF</th>        <td>    0.1476</td> <td>    0.010</td> <td>   14.391</td> <td> 0.000</td> <td>    0.128</td> <td>    0.168</td>\n",
       "</tr>\n",
       "<tr>\n",
       "  <th>jobcat_11</th> <td>   -0.2863</td> <td>    0.026</td> <td>  -11.170</td> <td> 0.000</td> <td>   -0.337</td> <td>   -0.236</td>\n",
       "</tr>\n",
       "<tr>\n",
       "  <th>jobcat_13</th> <td>    0.1427</td> <td>    0.020</td> <td>    6.986</td> <td> 0.000</td> <td>    0.103</td> <td>    0.183</td>\n",
       "</tr>\n",
       "<tr>\n",
       "  <th>jobcat_15</th> <td>   -0.2933</td> <td>    0.017</td> <td>  -17.232</td> <td> 0.000</td> <td>   -0.327</td> <td>   -0.260</td>\n",
       "</tr>\n",
       "<tr>\n",
       "  <th>pw_1</th>      <td>   -0.5324</td> <td>    0.069</td> <td>   -7.715</td> <td> 0.000</td> <td>   -0.668</td> <td>   -0.397</td>\n",
       "</tr>\n",
       "<tr>\n",
       "  <th>alpha</th>     <td>    0.9024</td> <td>    0.006</td> <td>  149.768</td> <td> 0.000</td> <td>    0.891</td> <td>    0.914</td>\n",
       "</tr>\n",
       "</table>"
      ],
      "text/plain": [
       "<class 'statsmodels.iolib.summary.Summary'>\n",
       "\"\"\"\n",
       "                     NegativeBinomial Regression Results                      \n",
       "==============================================================================\n",
       "Dep. Variable:          total_workers   No. Observations:                71715\n",
       "Model:               NegativeBinomial   Df Residuals:                    71709\n",
       "Method:                           MLE   Df Model:                            5\n",
       "Date:                Sat, 02 Dec 2017   Pseudo R-squ.:                0.001872\n",
       "Time:                        00:27:03   Log-Likelihood:            -1.3846e+05\n",
       "converged:                      False   LL-Null:                   -1.3872e+05\n",
       "                                        LLR p-value:                4.920e-110\n",
       "==============================================================================\n",
       "                 coef    std err          z      P>|z|      [0.025      0.975]\n",
       "------------------------------------------------------------------------------\n",
       "const          0.8568      0.018     46.568      0.000       0.821       0.893\n",
       "SF             0.1476      0.010     14.391      0.000       0.128       0.168\n",
       "jobcat_11     -0.2863      0.026    -11.170      0.000      -0.337      -0.236\n",
       "jobcat_13      0.1427      0.020      6.986      0.000       0.103       0.183\n",
       "jobcat_15     -0.2933      0.017    -17.232      0.000      -0.327      -0.260\n",
       "pw_1          -0.5324      0.069     -7.715      0.000      -0.668      -0.397\n",
       "alpha          0.9024      0.006    149.768      0.000       0.891       0.914\n",
       "==============================================================================\n",
       "\"\"\""
      ]
     },
     "execution_count": 168,
     "metadata": {},
     "output_type": "execute_result"
    }
   ],
   "source": [
    "model = sm.NegativeBinomial(regdf.total_workers, X, loglike_method='nb2').fit(method='nm')\n",
    "model.summary()"
   ]
  },
  {
   "cell_type": "markdown",
   "metadata": {},
   "source": [
    "And one more shot with a GLM for kicks:"
   ]
  },
  {
   "cell_type": "code",
   "execution_count": 167,
   "metadata": {},
   "outputs": [
    {
     "name": "stderr",
     "output_type": "stream",
     "text": [
      "/home/kilian/.envs/elucd/lib/python3.6/site-packages/statsmodels/base/model.py:496: ConvergenceWarning: Maximum Likelihood optimization failed to converge. Check mle_retvals\n",
      "  \"Check mle_retvals\", ConvergenceWarning)\n"
     ]
    },
    {
     "data": {
      "text/html": [
       "<table class=\"simpletable\">\n",
       "<caption>Generalized Linear Model Regression Results</caption>\n",
       "<tr>\n",
       "  <th>Dep. Variable:</th>    <td>total_workers</td>  <th>  No. Observations:  </th>    <td> 71715</td>   \n",
       "</tr>\n",
       "<tr>\n",
       "  <th>Model:</th>                 <td>GLM</td>       <th>  Df Residuals:      </th>    <td> 71709</td>   \n",
       "</tr>\n",
       "<tr>\n",
       "  <th>Model Family:</th>   <td>NegativeBinomial</td> <th>  Df Model:          </th>    <td>     5</td>   \n",
       "</tr>\n",
       "<tr>\n",
       "  <th>Link Function:</th>         <td>log</td>       <th>  Scale:             </th> <td>5.0834333518</td>\n",
       "</tr>\n",
       "<tr>\n",
       "  <th>Method:</th>                <td>nm</td>        <th>  Log-Likelihood:    </th>  <td>-1.3853e+05</td>\n",
       "</tr>\n",
       "<tr>\n",
       "  <th>Date:</th>           <td>Sat, 02 Dec 2017</td> <th>  Deviance:          </th>   <td>  54720.</td>  \n",
       "</tr>\n",
       "<tr>\n",
       "  <th>Time:</th>               <td>00:25:35</td>     <th>  Pearson chi2:      </th>   <td>3.65e+05</td>  \n",
       "</tr>\n",
       "<tr>\n",
       "  <th>No. Iterations:</th>        <td>100</td>       <th>                     </th>       <td> </td>     \n",
       "</tr>\n",
       "</table>\n",
       "<table class=\"simpletable\">\n",
       "<tr>\n",
       "      <td></td>         <th>coef</th>     <th>std err</th>      <th>z</th>      <th>P>|z|</th>  <th>[0.025</th>    <th>0.975]</th>  \n",
       "</tr>\n",
       "<tr>\n",
       "  <th>const</th>     <td>    0.7363</td> <td>    0.042</td> <td>   17.524</td> <td> 0.000</td> <td>    0.654</td> <td>    0.819</td>\n",
       "</tr>\n",
       "<tr>\n",
       "  <th>SF</th>        <td>    0.1574</td> <td>    0.024</td> <td>    6.616</td> <td> 0.000</td> <td>    0.111</td> <td>    0.204</td>\n",
       "</tr>\n",
       "<tr>\n",
       "  <th>jobcat_11</th> <td>   -0.1624</td> <td>    0.059</td> <td>   -2.741</td> <td> 0.006</td> <td>   -0.279</td> <td>   -0.046</td>\n",
       "</tr>\n",
       "<tr>\n",
       "  <th>jobcat_13</th> <td>    0.1111</td> <td>    0.047</td> <td>    2.386</td> <td> 0.017</td> <td>    0.020</td> <td>    0.202</td>\n",
       "</tr>\n",
       "<tr>\n",
       "  <th>jobcat_15</th> <td>   -0.1835</td> <td>    0.039</td> <td>   -4.717</td> <td> 0.000</td> <td>   -0.260</td> <td>   -0.107</td>\n",
       "</tr>\n",
       "<tr>\n",
       "  <th>pw_1</th>      <td>   -0.3973</td> <td>    0.157</td> <td>   -2.524</td> <td> 0.012</td> <td>   -0.706</td> <td>   -0.089</td>\n",
       "</tr>\n",
       "</table>"
      ],
      "text/plain": [
       "<class 'statsmodels.iolib.summary.Summary'>\n",
       "\"\"\"\n",
       "                 Generalized Linear Model Regression Results                  \n",
       "==============================================================================\n",
       "Dep. Variable:          total_workers   No. Observations:                71715\n",
       "Model:                            GLM   Df Residuals:                    71709\n",
       "Model Family:        NegativeBinomial   Df Model:                            5\n",
       "Link Function:                    log   Scale:                    5.0834333518\n",
       "Method:                            nm   Log-Likelihood:            -1.3853e+05\n",
       "Date:                Sat, 02 Dec 2017   Deviance:                       54720.\n",
       "Time:                        00:25:35   Pearson chi2:                 3.65e+05\n",
       "No. Iterations:                   100                                         \n",
       "==============================================================================\n",
       "                 coef    std err          z      P>|z|      [0.025      0.975]\n",
       "------------------------------------------------------------------------------\n",
       "const          0.7363      0.042     17.524      0.000       0.654       0.819\n",
       "SF             0.1574      0.024      6.616      0.000       0.111       0.204\n",
       "jobcat_11     -0.1624      0.059     -2.741      0.006      -0.279      -0.046\n",
       "jobcat_13      0.1111      0.047      2.386      0.017       0.020       0.202\n",
       "jobcat_15     -0.1835      0.039     -4.717      0.000      -0.260      -0.107\n",
       "pw_1          -0.3973      0.157     -2.524      0.012      -0.706      -0.089\n",
       "==============================================================================\n",
       "\"\"\""
      ]
     },
     "execution_count": 167,
     "metadata": {},
     "output_type": "execute_result"
    }
   ],
   "source": [
    "model = sm.GLM(regdf.total_workers, X, family=sm.families.NegativeBinomial()).fit(method='nm')\n",
    "model.summary()"
   ]
  },
  {
   "cell_type": "markdown",
   "metadata": {},
   "source": [
    "Interestingly, according to these models and their significance tests, there does in fact seem to be support for the idea that the total number of workers hired is negatively correlated with the prevailing wages in the region for that job. However, since I have standardised the wage rates to values whose magnitudes are mostly much smaller than unity, the coefficient suggests that the effect is rather small. To quantify the contribution the effect has on the difference in the visa rates in NYC vs SF, I would need to see what the distribution of prevailing wages is among different jobs in each region and see how often they tended to be lower in SF and whether those were cases where more work was demanded. Here's a first glance at what that distribution looks like overall and not a lot can be gleaned from it. Further investigation would require more hypotheses and testing."
   ]
  },
  {
   "cell_type": "code",
   "execution_count": 172,
   "metadata": {},
   "outputs": [
    {
     "data": {
      "text/plain": [
       "Text(0,0.5,'total_workers')"
      ]
     },
     "execution_count": 172,
     "metadata": {},
     "output_type": "execute_result"
    },
    {
     "data": {
      "image/png": "[encoded data removed]",
      "text/plain": [
       "<matplotlib.figure.Figure at 0x7f32f4bad4e0>"
      ]
     },
     "metadata": {},
     "output_type": "display_data"
    }
   ],
   "source": [
    "nyreg = regdf.loc[regdf.metro == \"NYC\", :]\n",
    "sfreg = regdf.loc[regdf.metro == \"SF\", :]\n",
    "\n",
    "pw_bins = np.linspace(regdf.pw_1.min(), regdf.pw_1.max(), 49)\n",
    "\n",
    "fig = plt.figure(figsize=(16,5))\n",
    "ax_ny = fig.add_subplot(121)\n",
    "ax_sf = fig.add_subplot(122)\n",
    "\n",
    "ax_ny.hist(nyreg.pw_1, bins=pw_bins, weights=nyreg.total_workers)\n",
    "ax_sf.hist(sfreg.pw_1, bins=pw_bins, weights=sfreg.total_workers)\n",
    "\n",
    "ax_ny.set_xlabel(\"NYC prevailing wage\")\n",
    "ax_sf.set_xlabel(\"SF prevailing wage\")\n",
    "ax_ny.set_ylabel(\"total_workers\")\n"
   ]
  },
  {
   "cell_type": "code",
   "execution_count": null,
   "metadata": {},
   "outputs": [],
   "source": []
  }
 ],
 "metadata": {
  "kernelspec": {
   "display_name": "Python 3",
   "language": "python",
   "name": "python3"
  },
  "language_info": {
   "codemirror_mode": {
    "name": "ipython",
    "version": 3
   },
   "file_extension": ".py",
   "mimetype": "text/x-python",
   "name": "python",
   "nbconvert_exporter": "python",
   "pygments_lexer": "ipython3",
   "version": "3.6.3"
  }
 },
 "nbformat": 4,
 "nbformat_minor": 2
}
