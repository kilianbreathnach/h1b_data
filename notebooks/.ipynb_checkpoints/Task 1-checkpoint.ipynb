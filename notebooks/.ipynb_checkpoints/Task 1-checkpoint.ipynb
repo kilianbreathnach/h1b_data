{
 "cells": [
  {
   "cell_type": "markdown",
   "metadata": {},
   "source": [
    "## Task 1\n",
    "### Explore the differences in visas issued in NYC and SF Bay Area\n",
    "\n",
    "Since this data is actually the LCA application data, we can't exactly explore the number of issued visas but we can explore the number of potential visas by looking at the trends in successful LCA applications."
   ]
  },
  {
   "cell_type": "markdown",
   "metadata": {},
   "source": [
    "### Description of data cleaning\n",
    "\n",
    "The exact method can be seen in the other notebooks but I will briefly describe the motivation for and results of my approach to getting the data for this task:\n",
    "\n",
    "1. I kept only those data where the LCA was certified and not withdrawn, since those were the only cases which could have become visas\n",
    "2. Since this dataset is supposed to be for H1B visas issued in 2014, I kept only those data where the LCA was submitted within 6 months of 2014. It is a condition that LCA is submitted within this timeframe, as outlined here: https://www.foreignlaborcert.doleta.gov/h-1b.cfm Similarly, I removed any rows for LCA that had a start date any later than the last day in 2014.\n",
    "4. For the sake of salary comparison, I removed any applications for part time work, since there is no reliable way to compare without knowing the hours worked. This was a very small part of the dataset.\n",
    "5. For the remaining pay information, I transformed everything in the wage_rate_from, wage_rate_to, pw_1, and pw_2 columns into an annual salary for easy comparison. I did this by assuming that \"Monthly\" rate could be converted to annual with a factor of 12, Bi-Weekly with a factor of 26, and Hourly with a factor of 52 weeks by 40 hours.\n",
    "6. Since a lot of the text data was misspelled and otherwise messy, I did my best to find unique matches of things like company names, addresses, SOC codes, etc. by fuzzy-matching and comparing with outside reliable data sources from the census bureau and ONET, removing codes and addresses that don't make sense or cross-referencing to figure out which codes to replace them with.\n",
    "7. For the NYC and SF data, I got neighbourhood and county/place name data from the NYC and SF open data webpages, in order to make sure I could distinguish work locations within the metropolitan areas from other areas in the states of NY and CA."
   ]
  },
  {
   "cell_type": "code",
   "execution_count": 117,
   "metadata": {},
   "outputs": [],
   "source": [
    "# first let's just import some modules\n",
    "import numpy as np\n",
    "import pandas as pd\n",
    "from scipy import stats\n",
    "import matplotlib.pyplot as plt\n",
    "import seaborn as sns\n",
    "\n",
    "%matplotlib inline"
   ]
  },
  {
   "cell_type": "code",
   "execution_count": 3,
   "metadata": {},
   "outputs": [],
   "source": [
    "# load in the two dataframes for NYC and SF which I have cleaned up\n",
    "nycdf = pd.read_csv(\"../dat/nycdf.csv\")\n",
    "sfdf = pd.read_csv(\"../dat/sfdf.csv\")"
   ]
  },
  {
   "cell_type": "markdown",
   "metadata": {},
   "source": [
    "###  How many visas could be issued for NYC and SF\n",
    "\n",
    "Here I'll just sum over the \"total_workers\" column for the NYC and SF dataframes of cleaned up data, counting the number of visas for each company for each job that were applied for with LCAs"
   ]
  },
  {
   "cell_type": "code",
   "execution_count": 4,
   "metadata": {},
   "outputs": [
    {
     "data": {
      "text/plain": [
       "61139.0"
      ]
     },
     "execution_count": 4,
     "metadata": {},
     "output_type": "execute_result"
    }
   ],
   "source": [
    "nycnum = nycdf.total_workers.sum()\n",
    "nycnum"
   ]
  },
  {
   "cell_type": "code",
   "execution_count": 5,
   "metadata": {},
   "outputs": [
    {
     "data": {
      "text/plain": [
       "111004.0"
      ]
     },
     "execution_count": 5,
     "metadata": {},
     "output_type": "execute_result"
    }
   ],
   "source": [
    "sfnum = sfdf.total_workers.sum()\n",
    "sfnum"
   ]
  },
  {
   "cell_type": "markdown",
   "metadata": {},
   "source": [
    "### Do the number of visas issued in NYC differ in any meaningful way from those issued in SF?\n",
    "\n",
    "Clearly, the number in SF is larger than the number in NYC. But just to be sure, I will compute the rate of visas in the population for each metro area. The numbers were found on google/wikipedia and come from the census webpages for each area"
   ]
  },
  {
   "cell_type": "code",
   "execution_count": 6,
   "metadata": {},
   "outputs": [],
   "source": [
    "nycpop = 8472000\n",
    "sfpop = 7150739 + (7684011 - 7150739) * (4/6)"
   ]
  },
  {
   "cell_type": "code",
   "execution_count": 7,
   "metadata": {},
   "outputs": [
    {
     "data": {
      "text/plain": [
       "0.0072165958451369215"
      ]
     },
     "execution_count": 7,
     "metadata": {},
     "output_type": "execute_result"
    }
   ],
   "source": [
    "nyc_visarate = nycdf.total_workers.sum() / nycpop\n",
    "nyc_visarate"
   ]
  },
  {
   "cell_type": "code",
   "execution_count": 9,
   "metadata": {},
   "outputs": [
    {
     "data": {
      "text/plain": [
       "0.01478820260137758"
      ]
     },
     "execution_count": 9,
     "metadata": {},
     "output_type": "execute_result"
    }
   ],
   "source": [
    "sf_visarate = sfdf.total_workers.sum() / sfpop\n",
    "sf_visarate"
   ]
  },
  {
   "cell_type": "markdown",
   "metadata": {},
   "source": [
    "Since the populations are very similar, we see that the Bay Area has double the rate of visas as New York City. I find it really surprising that more than 1 in every 100 people in the Bay Area was getting a H1B in 2014!"
   ]
  },
  {
   "cell_type": "markdown",
   "metadata": {},
   "source": [
    "### Hypothesis No. 1\n",
    "\n",
    "Here, I'm going to go with a pretty obvious approach, for anyone that has paid attention to the internet or current affairs in general over the last while. Let's see if the difference in the demand for H1Bs is driven by labour demand in a particular kind of job category which might happen to be represented more in the Bay Area than in NYC.\n",
    "\n",
    "I think an interesting test to use to decide whether something like this is at play would be Fisher's exact test. This takes a 2x2 contingency table of samples which can be classified in two different classes of binary categories. The test then determines the probability of drawing these samples from the same class-association. This would be an appropriate null hypothesis in our case: taking two separate job categories, is the proportion of jobs in NYC versus SF the same in both categories. If the proportions across all pairs of job categories are the same, then we cannot rule out the null hypothesis - i.e. there is no particular job type which explains the difference in visa numbers between SF and NYC. Otherwise, our data lend support to the alternative hypothesis, which is that there is a lot more demand in the Bay Area for particular jobs.\n",
    "\n",
    "I'll perform the test then across all pairs and compare p values between pairs of job categories. I'm restricting the job category to only the 20 highest level categories, which come from the first two digits in the SOC numbers."
   ]
  },
  {
   "cell_type": "code",
   "execution_count": 57,
   "metadata": {},
   "outputs": [],
   "source": [
    "# First add the two dataframes together, removing any rows where there are\n",
    "# no SOC codes (very few) and adding a metro area label\n",
    "nycdf[\"metro\"] = \"NYC\"\n",
    "sfdf[\"metro\"] = \"SF\"\n",
    "socdf = pd.concat([nycdf, sfdf]).dropna(subset=[\"lca_case_soc_code\"])\n",
    "\n",
    "# add a column with job category that only uses first two digits of soc code\n",
    "socdf[\"jobcat\"] = [soc[:2] for soc in socdf.lca_case_soc_code]"
   ]
  },
  {
   "cell_type": "code",
   "execution_count": 58,
   "metadata": {},
   "outputs": [],
   "source": [
    "# count up the total number of workers in each job category for each metro area\n",
    "socdf = socdf.groupby([\"jobcat\", \"metro\"])[\"total_workers\"].sum().reset_index()"
   ]
  },
  {
   "cell_type": "code",
   "execution_count": 59,
   "metadata": {},
   "outputs": [
    {
     "data": {
      "text/html": [
       "<div>\n",
       "<style scoped>\n",
       "    .dataframe tbody tr th:only-of-type {\n",
       "        vertical-align: middle;\n",
       "    }\n",
       "\n",
       "    .dataframe tbody tr th {\n",
       "        vertical-align: top;\n",
       "    }\n",
       "\n",
       "    .dataframe thead th {\n",
       "        text-align: right;\n",
       "    }\n",
       "</style>\n",
       "<table border=\"1\" class=\"dataframe\">\n",
       "  <thead>\n",
       "    <tr style=\"text-align: right;\">\n",
       "      <th></th>\n",
       "      <th>jobcat</th>\n",
       "      <th>metro</th>\n",
       "      <th>total_workers</th>\n",
       "    </tr>\n",
       "  </thead>\n",
       "  <tbody>\n",
       "    <tr>\n",
       "      <th>0</th>\n",
       "      <td>11</td>\n",
       "      <td>NYC</td>\n",
       "      <td>3536.0</td>\n",
       "    </tr>\n",
       "    <tr>\n",
       "      <th>1</th>\n",
       "      <td>11</td>\n",
       "      <td>SF</td>\n",
       "      <td>4482.0</td>\n",
       "    </tr>\n",
       "    <tr>\n",
       "      <th>2</th>\n",
       "      <td>13</td>\n",
       "      <td>NYC</td>\n",
       "      <td>18170.0</td>\n",
       "    </tr>\n",
       "    <tr>\n",
       "      <th>3</th>\n",
       "      <td>13</td>\n",
       "      <td>SF</td>\n",
       "      <td>11073.0</td>\n",
       "    </tr>\n",
       "    <tr>\n",
       "      <th>4</th>\n",
       "      <td>15</td>\n",
       "      <td>NYC</td>\n",
       "      <td>27694.0</td>\n",
       "    </tr>\n",
       "    <tr>\n",
       "      <th>5</th>\n",
       "      <td>15</td>\n",
       "      <td>SF</td>\n",
       "      <td>79158.0</td>\n",
       "    </tr>\n",
       "    <tr>\n",
       "      <th>6</th>\n",
       "      <td>17</td>\n",
       "      <td>NYC</td>\n",
       "      <td>997.0</td>\n",
       "    </tr>\n",
       "    <tr>\n",
       "      <th>7</th>\n",
       "      <td>17</td>\n",
       "      <td>SF</td>\n",
       "      <td>11826.0</td>\n",
       "    </tr>\n",
       "    <tr>\n",
       "      <th>8</th>\n",
       "      <td>19</td>\n",
       "      <td>NYC</td>\n",
       "      <td>1062.0</td>\n",
       "    </tr>\n",
       "    <tr>\n",
       "      <th>9</th>\n",
       "      <td>19</td>\n",
       "      <td>SF</td>\n",
       "      <td>1116.0</td>\n",
       "    </tr>\n",
       "    <tr>\n",
       "      <th>10</th>\n",
       "      <td>21</td>\n",
       "      <td>NYC</td>\n",
       "      <td>172.0</td>\n",
       "    </tr>\n",
       "    <tr>\n",
       "      <th>11</th>\n",
       "      <td>21</td>\n",
       "      <td>SF</td>\n",
       "      <td>76.0</td>\n",
       "    </tr>\n",
       "    <tr>\n",
       "      <th>12</th>\n",
       "      <td>23</td>\n",
       "      <td>NYC</td>\n",
       "      <td>978.0</td>\n",
       "    </tr>\n",
       "    <tr>\n",
       "      <th>13</th>\n",
       "      <td>23</td>\n",
       "      <td>SF</td>\n",
       "      <td>271.0</td>\n",
       "    </tr>\n",
       "    <tr>\n",
       "      <th>14</th>\n",
       "      <td>25</td>\n",
       "      <td>NYC</td>\n",
       "      <td>2800.0</td>\n",
       "    </tr>\n",
       "    <tr>\n",
       "      <th>15</th>\n",
       "      <td>25</td>\n",
       "      <td>SF</td>\n",
       "      <td>352.0</td>\n",
       "    </tr>\n",
       "    <tr>\n",
       "      <th>16</th>\n",
       "      <td>27</td>\n",
       "      <td>NYC</td>\n",
       "      <td>2338.0</td>\n",
       "    </tr>\n",
       "    <tr>\n",
       "      <th>17</th>\n",
       "      <td>27</td>\n",
       "      <td>SF</td>\n",
       "      <td>1516.0</td>\n",
       "    </tr>\n",
       "    <tr>\n",
       "      <th>18</th>\n",
       "      <td>29</td>\n",
       "      <td>NYC</td>\n",
       "      <td>2824.0</td>\n",
       "    </tr>\n",
       "    <tr>\n",
       "      <th>19</th>\n",
       "      <td>29</td>\n",
       "      <td>SF</td>\n",
       "      <td>477.0</td>\n",
       "    </tr>\n",
       "    <tr>\n",
       "      <th>20</th>\n",
       "      <td>31</td>\n",
       "      <td>NYC</td>\n",
       "      <td>36.0</td>\n",
       "    </tr>\n",
       "    <tr>\n",
       "      <th>21</th>\n",
       "      <td>31</td>\n",
       "      <td>SF</td>\n",
       "      <td>1.0</td>\n",
       "    </tr>\n",
       "    <tr>\n",
       "      <th>22</th>\n",
       "      <td>33</td>\n",
       "      <td>NYC</td>\n",
       "      <td>2.0</td>\n",
       "    </tr>\n",
       "    <tr>\n",
       "      <th>23</th>\n",
       "      <td>35</td>\n",
       "      <td>NYC</td>\n",
       "      <td>18.0</td>\n",
       "    </tr>\n",
       "    <tr>\n",
       "      <th>24</th>\n",
       "      <td>35</td>\n",
       "      <td>SF</td>\n",
       "      <td>5.0</td>\n",
       "    </tr>\n",
       "    <tr>\n",
       "      <th>25</th>\n",
       "      <td>39</td>\n",
       "      <td>NYC</td>\n",
       "      <td>5.0</td>\n",
       "    </tr>\n",
       "    <tr>\n",
       "      <th>26</th>\n",
       "      <td>39</td>\n",
       "      <td>SF</td>\n",
       "      <td>3.0</td>\n",
       "    </tr>\n",
       "    <tr>\n",
       "      <th>27</th>\n",
       "      <td>41</td>\n",
       "      <td>NYC</td>\n",
       "      <td>376.0</td>\n",
       "    </tr>\n",
       "    <tr>\n",
       "      <th>28</th>\n",
       "      <td>41</td>\n",
       "      <td>SF</td>\n",
       "      <td>614.0</td>\n",
       "    </tr>\n",
       "    <tr>\n",
       "      <th>29</th>\n",
       "      <td>43</td>\n",
       "      <td>NYC</td>\n",
       "      <td>93.0</td>\n",
       "    </tr>\n",
       "    <tr>\n",
       "      <th>30</th>\n",
       "      <td>43</td>\n",
       "      <td>SF</td>\n",
       "      <td>15.0</td>\n",
       "    </tr>\n",
       "    <tr>\n",
       "      <th>31</th>\n",
       "      <td>45</td>\n",
       "      <td>NYC</td>\n",
       "      <td>1.0</td>\n",
       "    </tr>\n",
       "    <tr>\n",
       "      <th>32</th>\n",
       "      <td>45</td>\n",
       "      <td>SF</td>\n",
       "      <td>1.0</td>\n",
       "    </tr>\n",
       "    <tr>\n",
       "      <th>33</th>\n",
       "      <td>47</td>\n",
       "      <td>NYC</td>\n",
       "      <td>4.0</td>\n",
       "    </tr>\n",
       "    <tr>\n",
       "      <th>34</th>\n",
       "      <td>47</td>\n",
       "      <td>SF</td>\n",
       "      <td>2.0</td>\n",
       "    </tr>\n",
       "    <tr>\n",
       "      <th>35</th>\n",
       "      <td>49</td>\n",
       "      <td>SF</td>\n",
       "      <td>2.0</td>\n",
       "    </tr>\n",
       "    <tr>\n",
       "      <th>36</th>\n",
       "      <td>51</td>\n",
       "      <td>NYC</td>\n",
       "      <td>14.0</td>\n",
       "    </tr>\n",
       "    <tr>\n",
       "      <th>37</th>\n",
       "      <td>51</td>\n",
       "      <td>SF</td>\n",
       "      <td>1.0</td>\n",
       "    </tr>\n",
       "    <tr>\n",
       "      <th>38</th>\n",
       "      <td>53</td>\n",
       "      <td>NYC</td>\n",
       "      <td>1.0</td>\n",
       "    </tr>\n",
       "    <tr>\n",
       "      <th>39</th>\n",
       "      <td>53</td>\n",
       "      <td>SF</td>\n",
       "      <td>1.0</td>\n",
       "    </tr>\n",
       "  </tbody>\n",
       "</table>\n",
       "</div>"
      ],
      "text/plain": [
       "   jobcat metro  total_workers\n",
       "0      11   NYC         3536.0\n",
       "1      11    SF         4482.0\n",
       "2      13   NYC        18170.0\n",
       "3      13    SF        11073.0\n",
       "4      15   NYC        27694.0\n",
       "5      15    SF        79158.0\n",
       "6      17   NYC          997.0\n",
       "7      17    SF        11826.0\n",
       "8      19   NYC         1062.0\n",
       "9      19    SF         1116.0\n",
       "10     21   NYC          172.0\n",
       "11     21    SF           76.0\n",
       "12     23   NYC          978.0\n",
       "13     23    SF          271.0\n",
       "14     25   NYC         2800.0\n",
       "15     25    SF          352.0\n",
       "16     27   NYC         2338.0\n",
       "17     27    SF         1516.0\n",
       "18     29   NYC         2824.0\n",
       "19     29    SF          477.0\n",
       "20     31   NYC           36.0\n",
       "21     31    SF            1.0\n",
       "22     33   NYC            2.0\n",
       "23     35   NYC           18.0\n",
       "24     35    SF            5.0\n",
       "25     39   NYC            5.0\n",
       "26     39    SF            3.0\n",
       "27     41   NYC          376.0\n",
       "28     41    SF          614.0\n",
       "29     43   NYC           93.0\n",
       "30     43    SF           15.0\n",
       "31     45   NYC            1.0\n",
       "32     45    SF            1.0\n",
       "33     47   NYC            4.0\n",
       "34     47    SF            2.0\n",
       "35     49    SF            2.0\n",
       "36     51   NYC           14.0\n",
       "37     51    SF            1.0\n",
       "38     53   NYC            1.0\n",
       "39     53    SF            1.0"
      ]
     },
     "execution_count": 59,
     "metadata": {},
     "output_type": "execute_result"
    }
   ],
   "source": [
    "# here's our resulting data table\n",
    "socdf"
   ]
  },
  {
   "cell_type": "code",
   "execution_count": 61,
   "metadata": {},
   "outputs": [],
   "source": [
    "# let me just drop the rows where a job category is not shared in both metro areas\n",
    "# these are both in single digits anyway\n",
    "socdf = socdf.drop(socdf.index[[22, 35]])"
   ]
  },
  {
   "cell_type": "code",
   "execution_count": 65,
   "metadata": {},
   "outputs": [],
   "source": [
    "# here's an example of one pair computation, of a pair that are quite close in proportions between the cities\n",
    "oddsr, pval = stats.fisher_exact([[int(socdf.iloc[0].total_workers), int(socdf.iloc[1].total_workers)],\n",
    "                                  [int(socdf.iloc[8].total_workers), int(socdf.iloc[9].total_workers)]])"
   ]
  },
  {
   "cell_type": "code",
   "execution_count": 66,
   "metadata": {},
   "outputs": [
    {
     "data": {
      "text/plain": [
       "0.82904877513821762"
      ]
     },
     "execution_count": 66,
     "metadata": {},
     "output_type": "execute_result"
    }
   ],
   "source": [
    "oddsr"
   ]
  },
  {
   "cell_type": "code",
   "execution_count": 67,
   "metadata": {},
   "outputs": [
    {
     "data": {
      "text/plain": [
       "0.00011271734407661523"
      ]
     },
     "execution_count": 67,
     "metadata": {},
     "output_type": "execute_result"
    }
   ],
   "source": [
    "# so they are quite likely to be from distinct distributions, even in the similar jobs\n",
    "# the Fisher test is very exact, using the hypergeometric function, so I would expect this\n",
    "# but we can probably still see an interesting trend to support the hypothesis\n",
    "pval"
   ]
  },
  {
   "cell_type": "code",
   "execution_count": 121,
   "metadata": {},
   "outputs": [],
   "source": [
    "# now to compute over all pairs and store in a matrix\n",
    "ncats = socdf.jobcat.nunique()\n",
    "pmat = np.zeros((ncats, ncats))\n",
    "\n",
    "for i in range(ncats - 1):\n",
    "    for j in range(i + 1, ncats - 1):\n",
    "        oddsr, pval = stats.fisher_exact([[int(socdf.iloc[2 * i].total_workers), int(socdf.iloc[2 * i + 1].total_workers)],\n",
    "                                          [int(socdf.iloc[2 * j].total_workers), int(socdf.iloc[2 * j + 1].total_workers)]])\n",
    "        \n",
    "        # here I convert the resulting p value to a \"score\" by taking the negative log\n",
    "        if pval > 0:\n",
    "            pmat[i, j] = -np.log10(pval)\n",
    "        # if the pvalue is so small that it is zero in machine precision, I assign a greater score than the others\n",
    "        else:\n",
    "            pmat[i, j] = 350"
   ]
  },
  {
   "cell_type": "code",
   "execution_count": 122,
   "metadata": {},
   "outputs": [
    {
     "data": {
      "text/plain": [
       "<matplotlib.axes._subplots.AxesSubplot at 0x7f2c353399b0>"
      ]
     },
     "execution_count": 122,
     "metadata": {},
     "output_type": "execute_result"
    },
    {
     "data": {
      "image/png": "[encoded data removed]",
      "text/plain": [
       "<matplotlib.figure.Figure at 0x7f2c351669e8>"
      ]
     },
     "metadata": {},
     "output_type": "display_data"
    }
   ],
   "source": [
    "# we can see the results in a heatmap\n",
    "sns.heatmap(pmat, cmap=plt.get_cmap(\"binary\"))"
   ]
  },
  {
   "cell_type": "code",
   "execution_count": null,
   "metadata": {},
   "outputs": [],
   "source": []
  }
 ],
 "metadata": {
  "kernelspec": {
   "display_name": "Python 3",
   "language": "python",
   "name": "python3"
  },
  "language_info": {
   "codemirror_mode": {
    "name": "ipython",
    "version": 3
   },
   "file_extension": ".py",
   "mimetype": "text/x-python",
   "name": "python",
   "nbconvert_exporter": "python",
   "pygments_lexer": "ipython3",
   "version": "3.6.3"
  }
 },
 "nbformat": 4,
 "nbformat_minor": 2
}
